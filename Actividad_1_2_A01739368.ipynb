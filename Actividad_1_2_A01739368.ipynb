{
  "nbformat": 4,
  "nbformat_minor": 0,
  "metadata": {
    "colab": {
      "provenance": [],
      "authorship_tag": "ABX9TyNdY6ejlgDpx+8MogMsdm/o",
      "include_colab_link": true
    },
    "kernelspec": {
      "name": "python3",
      "display_name": "Python 3"
    },
    "language_info": {
      "name": "python"
    }
  },
  "cells": [
    {
      "cell_type": "markdown",
      "metadata": {
        "id": "view-in-github",
        "colab_type": "text"
      },
      "source": [
        "<a href=\"https://colab.research.google.com/github/a01739368-glitch/tc1002s_semana_tec/blob/main/Actividad_1_2_A01739368.ipynb\" target=\"_parent\"><img src=\"https://colab.research.google.com/assets/colab-badge.svg\" alt=\"Open In Colab\"/></a>"
      ]
    },
    {
      "cell_type": "code",
      "execution_count": 1,
      "metadata": {
        "id": "KDfBKM_9z-QZ"
      },
      "outputs": [],
      "source": [
        "import numpy as np"
      ]
    },
    {
      "cell_type": "code",
      "source": [
        "arreglo = np.full(10,5)\n",
        "print (arreglo)"
      ],
      "metadata": {
        "colab": {
          "base_uri": "https://localhost:8080/"
        },
        "id": "7eP_14v60CNi",
        "outputId": "95456478-a59e-4491-fd68-281004d0b934"
      },
      "execution_count": 6,
      "outputs": [
        {
          "output_type": "stream",
          "name": "stdout",
          "text": [
            "[5 5 5 5 5 5 5 5 5 5]\n"
          ]
        }
      ]
    },
    {
      "cell_type": "code",
      "source": [
        "arreglo2 = np.arange(10,51,2)\n",
        "print (arreglo2)"
      ],
      "metadata": {
        "colab": {
          "base_uri": "https://localhost:8080/"
        },
        "id": "lb-BInOh13aq",
        "outputId": "ab8c8723-5a14-44a9-c174-f485804dad6c"
      },
      "execution_count": 8,
      "outputs": [
        {
          "output_type": "stream",
          "name": "stdout",
          "text": [
            "[10 12 14 16 18 20 22 24 26 28 30 32 34 36 38 40 42 44 46 48 50]\n"
          ]
        }
      ]
    },
    {
      "cell_type": "code",
      "source": [
        "random = np.random.randint(0, 101, (4, 4))\n",
        "print (random)"
      ],
      "metadata": {
        "colab": {
          "base_uri": "https://localhost:8080/"
        },
        "id": "8rAb_hkk29VS",
        "outputId": "ecdf8b0a-34e7-49d6-a06c-951dc25fc94c"
      },
      "execution_count": 13,
      "outputs": [
        {
          "output_type": "stream",
          "name": "stdout",
          "text": [
            "[[ 7 11 88 99]\n",
            " [ 7 27 77 21]\n",
            " [99 52 83 43]\n",
            " [79 86 11 25]]\n"
          ]
        }
      ]
    },
    {
      "cell_type": "code",
      "source": [
        "random = np.random.rand(10)\n",
        "sum = np.sum(random)\n",
        "print (random)\n",
        "print (\"Suma de randoms\", sum)"
      ],
      "metadata": {
        "colab": {
          "base_uri": "https://localhost:8080/"
        },
        "id": "6GXkwqix29N-",
        "outputId": "1234c867-6dbc-4141-9c85-ef4bb192f751"
      },
      "execution_count": 16,
      "outputs": [
        {
          "output_type": "stream",
          "name": "stdout",
          "text": [
            "[0.22567535 0.32796467 0.46318079 0.73875342 0.89782744 0.16571684\n",
            " 0.52446174 0.85731038 0.29720762 0.72457452]\n",
            "Suma de randoms 5.222672754938117\n"
          ]
        }
      ]
    },
    {
      "cell_type": "code",
      "source": [
        "random = np.random.rand(10)\n",
        "mean = np.mean(random)\n",
        "print (random)\n",
        "print (\"mean de randoms\", mean)"
      ],
      "metadata": {
        "colab": {
          "base_uri": "https://localhost:8080/"
        },
        "id": "f7ACbUeE29LX",
        "outputId": "3ea32574-d524-485a-f543-7b15e950674a"
      },
      "execution_count": 17,
      "outputs": [
        {
          "output_type": "stream",
          "name": "stdout",
          "text": [
            "[0.43555079 0.0422067  0.35665563 0.10037091 0.71639041 0.55107582\n",
            " 0.15761401 0.32626798 0.68854078 0.31942659]\n",
            "mean de randoms 0.3694099616967399\n"
          ]
        }
      ]
    },
    {
      "cell_type": "code",
      "source": [
        "import pandas as pd\n",
        "\n",
        "df = pd.DataFrame({\n",
        "    'Product': ['Carrots', 'Broccoli', 'Banana', 'Banana',\n",
        "                'Beans', 'Orange', 'Broccoli', 'Banana'],\n",
        "    'Category': ['Vegetable', 'Vegetable', 'Fruit', 'Fruit',\n",
        "                 'Vegetable', 'Fruit', 'Vegetable', 'Fruit'],\n",
        "    'Quantity': [8, 5, 3, 4, 5, 9, 11, 8],\n",
        "    'Amount': [270, 239, 617, 384, 626, 610, 62, 90]\n",
        "})\n",
        "\n",
        "print(df)\n"
      ],
      "metadata": {
        "colab": {
          "base_uri": "https://localhost:8080/"
        },
        "id": "5V3Df3so29JB",
        "outputId": "653e6c23-3fa3-4603-8269-36b6c45c7b71"
      },
      "execution_count": 19,
      "outputs": [
        {
          "output_type": "stream",
          "name": "stdout",
          "text": [
            "    Product   Category  Quantity  Amount\n",
            "0   Carrots  Vegetable         8     270\n",
            "1  Broccoli  Vegetable         5     239\n",
            "2    Banana      Fruit         3     617\n",
            "3    Banana      Fruit         4     384\n",
            "4     Beans  Vegetable         5     626\n",
            "5    Orange      Fruit         9     610\n",
            "6  Broccoli  Vegetable        11      62\n",
            "7    Banana      Fruit         8      90\n"
          ]
        }
      ]
    },
    {
      "cell_type": "code",
      "source": [
        "print(df[['Product', 'Quantity']])"
      ],
      "metadata": {
        "colab": {
          "base_uri": "https://localhost:8080/"
        },
        "id": "8z7cgMFI29Gr",
        "outputId": "5e3bd6b8-6b6e-4340-f108-d6a4ca08cd05"
      },
      "execution_count": 25,
      "outputs": [
        {
          "output_type": "stream",
          "name": "stdout",
          "text": [
            "    Product  Quantity\n",
            "0   Carrots         8\n",
            "1  Broccoli         5\n",
            "2    Banana         3\n",
            "3    Banana         4\n",
            "4     Beans         5\n",
            "5    Orange         9\n",
            "6  Broccoli        11\n",
            "7    Banana         8\n"
          ]
        }
      ]
    },
    {
      "cell_type": "code",
      "source": [
        "print(df.loc[[4, 6]])"
      ],
      "metadata": {
        "colab": {
          "base_uri": "https://localhost:8080/"
        },
        "id": "wifUIL-O29Dj",
        "outputId": "240e884d-f5d7-4fab-ac70-2e91b817b1cf"
      },
      "execution_count": 26,
      "outputs": [
        {
          "output_type": "stream",
          "name": "stdout",
          "text": [
            "    Product   Category  Quantity  Amount\n",
            "4     Beans  Vegetable         5     626\n",
            "6  Broccoli  Vegetable        11      62\n"
          ]
        }
      ]
    },
    {
      "cell_type": "code",
      "source": [
        "print(df.groupby('Product')['Quantity'].sum())"
      ],
      "metadata": {
        "colab": {
          "base_uri": "https://localhost:8080/"
        },
        "id": "Tb07ZRD329A8",
        "outputId": "b3f914ec-6d35-427e-9ed7-abdf3571a615"
      },
      "execution_count": 27,
      "outputs": [
        {
          "output_type": "stream",
          "name": "stdout",
          "text": [
            "Product\n",
            "Banana      15\n",
            "Beans        5\n",
            "Broccoli    16\n",
            "Carrots      8\n",
            "Orange       9\n",
            "Name: Quantity, dtype: int64\n"
          ]
        }
      ]
    },
    {
      "cell_type": "code",
      "source": [
        "print(df.groupby('Category')['Amount'].sum())"
      ],
      "metadata": {
        "colab": {
          "base_uri": "https://localhost:8080/"
        },
        "id": "ShQnOffN28-o",
        "outputId": "3b05028f-018c-4e18-d75f-32e3e5194eb9"
      },
      "execution_count": 28,
      "outputs": [
        {
          "output_type": "stream",
          "name": "stdout",
          "text": [
            "Category\n",
            "Fruit        1701\n",
            "Vegetable    1197\n",
            "Name: Amount, dtype: int64\n"
          ]
        }
      ]
    },
    {
      "cell_type": "code",
      "source": [],
      "metadata": {
        "id": "JjEM0HQP282j"
      },
      "execution_count": null,
      "outputs": []
    },
    {
      "cell_type": "code",
      "source": [],
      "metadata": {
        "id": "zW50QoVm28uR"
      },
      "execution_count": null,
      "outputs": []
    }
  ]
}